{
 "cells": [
  {
   "cell_type": "code",
   "execution_count": 1,
   "metadata": {},
   "outputs": [],
   "source": [
    "import requests"
   ]
  },
  {
   "cell_type": "code",
   "execution_count": 2,
   "metadata": {},
   "outputs": [],
   "source": [
    "from tkinter import *"
   ]
  },
  {
   "cell_type": "code",
   "execution_count": 3,
   "metadata": {},
   "outputs": [],
   "source": [
    "import tkinter as tk"
   ]
  },
  {
   "cell_type": "code",
   "execution_count": 4,
   "metadata": {},
   "outputs": [],
   "source": [
    "from tkinter import ttk"
   ]
  },
  {
   "cell_type": "code",
   "execution_count": 5,
   "metadata": {},
   "outputs": [],
   "source": [
    "class Converter():\n",
    "    def __init__(self,url):\n",
    "            self.data = requests.get(url).json()\n",
    "            self.currencies = self.data['rates']\n",
    "            \n",
    "    def convert(self, from_currency, to_currency, amount): \n",
    "        initial_amount = amount \n",
    "        if from_currency != 'USD' : \n",
    "            amount = amount / self.currencies[from_currency] \n",
    "  \n",
    "      \n",
    "        amount = round(amount * self.currencies[to_currency], 4) \n",
    "        return amount"
   ]
  },
  {
   "cell_type": "code",
   "execution_count": 6,
   "metadata": {},
   "outputs": [],
   "source": [
    "class App(tk.Tk):\n",
    "\n",
    "    def __init__(self, converter):\n",
    "        tk.Tk.__init__(self)\n",
    "        self.title('Currency Converter')\n",
    "        self.currency_converter = converter\n",
    "        \n",
    "        #self.iconphoto(False, photo)\n",
    "        self.iconbitmap(r'dollar.ico')\n",
    "\n",
    "        self.configure(background = 'gray')\n",
    "        self.geometry(\"510x200\")\n",
    "        self.resizable(width=False,height=False)\n",
    "        \n",
    "        # Label\n",
    "        self.intro_label = Label(self, text = ' Welcome to Real Time Currency Converter ',  fg = 'black', bg = 'white', relief = tk.RAISED, borderwidth = 10)\n",
    "        self.intro_label.config(font = ('Courier',15,'bold'))\n",
    "        print(\"\\n\")\n",
    "        self.date_label = Label(self, text = f\"1 Indian Rupee = {self.currency_converter.convert('INR','USD',1)} USD \\n Date : {self.currency_converter.data['date']}\", relief = tk.GROOVE, borderwidth = 2)\n",
    "\n",
    "        self.intro_label.place(x = 0 , y = 5)\n",
    "        self.date_label.place(x = 160, y= 60)\n",
    "\n",
    "        # Entry box\n",
    "        valid = (self.register(self.restrictNumberOnly), '%d', '%P')\n",
    "        self.amount_field = Entry(self,bd = 3, relief = tk.RIDGE, justify = tk.CENTER,validate='key', validatecommand=valid)\n",
    "        self.converted_amount_field_label = Label(self, text = '', fg = 'red', bg = 'white', relief = tk.RIDGE, justify = tk.CENTER, width = 17, borderwidth = 3)\n",
    "\n",
    "        # dropdown\n",
    "        self.from_currency_variable = StringVar(self)\n",
    "        self.from_currency_variable.set(\"INR\") # default value\n",
    "        self.to_currency_variable = StringVar(self)\n",
    "        self.to_currency_variable.set(\"USD\") # default value\n",
    "\n",
    "        font = (\"Courier\", 12, \"bold\")\n",
    "        self.option_add('*TCombobox*Listbox.font', font)\n",
    "        self.from_currency_dropdown = ttk.Combobox(self, textvariable=self.from_currency_variable,values=list(self.currency_converter.currencies.keys()), font = font, state = 'readonly', width = 12, justify = tk.CENTER)\n",
    "        self.to_currency_dropdown = ttk.Combobox(self, textvariable=self.to_currency_variable,values=list(self.currency_converter.currencies.keys()), font = font, state = 'readonly', width = 12, justify = tk.CENTER)\n",
    "\n",
    "\n",
    "        # placing\n",
    "        self.from_currency_dropdown.place(x = 30, y= 120)\n",
    "        self.amount_field.place(x = 36, y = 150)\n",
    "        self.to_currency_dropdown.place(x = 340, y= 120)\n",
    "        #self.converted_amount_field.place(x = 346, y = 150)\n",
    "        self.converted_amount_field_label.place(x = 346, y = 150)\n",
    "        \n",
    "        # Convert button\n",
    "        self.convert_button = Button(self, text = \"Convert\", fg = \"black\", command = self.perform) \n",
    "        self.convert_button.config(font=('Courier', 10, 'bold'))\n",
    "        self.convert_button.place(x = 225, y = 135)\n",
    "\n",
    "    def perform(self):\n",
    "        amount = float(self.amount_field.get())\n",
    "        from_curr = self.from_currency_variable.get()\n",
    "        to_curr = self.to_currency_variable.get()\n",
    "\n",
    "        converted_amount = self.currency_converter.convert(from_curr,to_curr,amount)\n",
    "        converted_amount = round(converted_amount, 2)\n",
    "\n",
    "        self.converted_amount_field_label.config(text = str(converted_amount))\n",
    "    \n",
    "    def restrictNumberOnly(self, action, string):\n",
    "        regex = re.compile(r\"[0-9,]*?(\\.)?[0-9,]*$\")\n",
    "        result = regex.match(string)\n",
    "        return (string == \"\" or (string.count('.') <= 1 and result is not None))"
   ]
  },
  {
   "cell_type": "code",
   "execution_count": 7,
   "metadata": {},
   "outputs": [],
   "source": [
    "if __name__ == '__main__':\n",
    "    url = 'https://api.exchangerate-api.com/v4/latest/USD'\n",
    "    converter = Converter(url)"
   ]
  },
  {
   "cell_type": "code",
   "execution_count": 8,
   "metadata": {},
   "outputs": [
    {
     "name": "stdout",
     "output_type": "stream",
     "text": [
      "\n",
      "\n"
     ]
    }
   ],
   "source": [
    "App(converter)\n",
    "mainloop()\n"
   ]
  },
  {
   "cell_type": "code",
   "execution_count": null,
   "metadata": {},
   "outputs": [],
   "source": []
  }
 ],
 "metadata": {
  "kernelspec": {
   "display_name": "Python 3",
   "language": "python",
   "name": "python3"
  },
  "language_info": {
   "codemirror_mode": {
    "name": "ipython",
    "version": 3
   },
   "file_extension": ".py",
   "mimetype": "text/x-python",
   "name": "python",
   "nbconvert_exporter": "python",
   "pygments_lexer": "ipython3",
   "version": "3.7.10"
  }
 },
 "nbformat": 4,
 "nbformat_minor": 4
}
